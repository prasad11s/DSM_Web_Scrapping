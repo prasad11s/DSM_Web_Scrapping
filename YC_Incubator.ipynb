{
 "cells": [
  {
   "cell_type": "code",
   "execution_count": 13,
   "id": "c0f64f5e-07f8-40d1-b44d-a6a15b8847cb",
   "metadata": {},
   "outputs": [],
   "source": [
    "import requests\n",
    "\n",
    "def  fetchAndSaveToFile(url, path):\n",
    "    r = requests.get(url)\n",
    "    with open (path, \"w\")as f:\n",
    "        f.write(r.text)\n",
    "\n",
    "url = \"https://www.ycombinator.com/companies\"\n",
    "\n",
    "\n",
    "fetchAndSaveToFile(url, \"C:/Users/Prasad/Documents/GItHub_Repository/DSM_Challlenge_Web_Scrapping/Data/YCI.html\")"
   ]
  },
  {
   "cell_type": "code",
   "execution_count": null,
   "id": "cf3dfa9f-8c81-4b60-9e87-1f6795d36dd7",
   "metadata": {},
   "outputs": [],
   "source": []
  }
 ],
 "metadata": {
  "kernelspec": {
   "display_name": "Python 3 (ipykernel)",
   "language": "python",
   "name": "python3"
  },
  "language_info": {
   "codemirror_mode": {
    "name": "ipython",
    "version": 3
   },
   "file_extension": ".py",
   "mimetype": "text/x-python",
   "name": "python",
   "nbconvert_exporter": "python",
   "pygments_lexer": "ipython3",
   "version": "3.9.7"
  }
 },
 "nbformat": 4,
 "nbformat_minor": 5
}
